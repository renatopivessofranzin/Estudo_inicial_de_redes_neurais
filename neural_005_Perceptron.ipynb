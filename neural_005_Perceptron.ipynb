{
 "cells": [
  {
   "cell_type": "markdown",
   "metadata": {},
   "source": [
    "\n",
    "### Projeto: \n",
    "### Estudo de implementação de uma rede neural artificial em Python\n",
    "### Autor: Prof. Ms. Renato Pivesso Franzin\n",
    "\n",
    "### Objetivos:\n",
    "    \n",
    "\n",
    "#### #Aprender passo a passo todos os cálculos matemáticos que envolvem redes neurais artificiais;\n",
    "\n",
    "#### #Entender conceitos como perceptron, funções de ativação, backpropagation (retropropagação) e gradient descent (descida do gradiente).\n",
    "\n",
    "\n",
    "#### #Descrição da Aplicação: Função AND com perceptron\n",
    "#### #Data: 07/01/2021\n",
    "#### #Referência: Manual Prático do Deep Learning - Redes Neurais Profundas\n",
    "#### #Instrutor: Arnaldo Gualberto\n"
   ]
  },
  {
   "cell_type": "markdown",
   "metadata": {},
   "source": [
    "### Imports e Configurações"
   ]
  },
  {
   "cell_type": "code",
   "execution_count": 1,
   "metadata": {},
   "outputs": [
    {
     "name": "stderr",
     "output_type": "stream",
     "text": [
      "C:\\Users\\renat\\anaconda3\\lib\\site-packages\\sklearn\\utils\\deprecation.py:143: FutureWarning: The sklearn.datasets.samples_generator module is  deprecated in version 0.22 and will be removed in version 0.24. The corresponding classes / functions should instead be imported from sklearn.datasets. Anything that cannot be imported from sklearn.datasets is now part of the private API.\n",
      "  warnings.warn(message, FutureWarning)\n"
     ]
    }
   ],
   "source": [
    "import numpy as np\n",
    "import pandas as pd\n",
    "import matplotlib.pyplot as plt\n",
    "from random import random\n",
    "from sklearn.linear_model import LinearRegression\n",
    "from sklearn.preprocessing import MinMaxScaler\n",
    "from sklearn.datasets.samples_generator import make_blobs\n",
    "\n",
    "%matplotlib inline"
   ]
  },
  {
   "cell_type": "markdown",
   "metadata": {},
   "source": [
    "## Classificação\n",
    "## Porta AND"
   ]
  },
  {
   "cell_type": "code",
   "execution_count": 2,
   "metadata": {},
   "outputs": [
    {
     "name": "stdout",
     "output_type": "stream",
     "text": [
      "(4, 2) (4,)\n"
     ]
    }
   ],
   "source": [
    "x = np.array([[0, 0], [0, 1], [1, 0], [1, 1]])\n",
    "#y = np.array([0, 1, 1, 1]) # porta OR\n",
    "y = np.array([0, 0, 0, 1]).T # porta AND\n",
    "\n",
    "print(x.shape, y.shape) # (4, 2) (4,) entrada (4,2) saída(4,1)"
   ]
  },
  {
   "cell_type": "code",
   "execution_count": 3,
   "metadata": {},
   "outputs": [
    {
     "name": "stdout",
     "output_type": "stream",
     "text": [
      "step 0: 1\n",
      "step 1: 1\n",
      "step 2: 1\n",
      "step 3: 1\n",
      "step 4: 1\n",
      "step 5: 1\n",
      "step 6: 1\n",
      "step 7: 1\n",
      "step 8: 1\n",
      "step 9: 1\n",
      "step 10: 1\n",
      "step 11: 1\n",
      "step 12: 2\n",
      "step 13: 2\n",
      "step 14: 2\n",
      "step 15: 2\n",
      "step 16: 2\n",
      "step 17: 2\n",
      "step 18: 2\n",
      "step 19: 2\n",
      "step 20: 2\n",
      "step 21: 2\n",
      "step 22: 2\n",
      "step 23: 2\n",
      "step 24: 2\n",
      "step 25: 2\n",
      "step 26: 2\n",
      "step 27: 2\n",
      "step 28: 2\n",
      "step 29: 2\n",
      "step 30: 2\n",
      "step 31: 2\n",
      "step 32: 2\n",
      "step 33: 2\n",
      "step 34: 2\n",
      "step 35: 2\n",
      "step 36: 2\n",
      "step 37: 2\n",
      "step 38: 2\n",
      "step 39: 2\n",
      "step 40: 2\n",
      "step 41: 2\n",
      "step 42: 2\n",
      "step 43: 2\n",
      "step 44: 2\n",
      "step 45: 2\n",
      "step 46: 2\n",
      "step 47: 2\n",
      "step 48: 2\n",
      "step 49: 2\n",
      "step 50: 2\n",
      "step 51: 2\n",
      "step 52: 2\n",
      "step 53: 2\n",
      "step 54: 2\n",
      "step 55: 2\n",
      "step 56: 2\n",
      "step 57: 2\n",
      "step 58: 2\n",
      "step 59: 2\n",
      "step 60: 2\n",
      "step 61: 2\n",
      "step 62: 2\n",
      "step 63: 2\n",
      "step 64: 2\n",
      "step 65: 2\n",
      "step 66: 2\n",
      "step 67: 2\n",
      "step 68: 2\n",
      "step 69: 2\n",
      "step 70: 2\n",
      "step 71: 2\n",
      "step 72: 2\n",
      "step 73: 2\n",
      "step 74: 2\n",
      "step 75: 2\n",
      "step 76: 2\n",
      "step 77: 2\n",
      "step 78: 2\n",
      "step 79: 2\n",
      "step 80: 2\n",
      "step 81: 2\n",
      "step 82: 2\n",
      "step 83: 2\n",
      "step 84: 2\n",
      "step 85: 2\n",
      "step 86: 2\n",
      "step 87: 1\n",
      "step 88: 0\n",
      "step 89: 0\n",
      "step 90: 0\n",
      "step 91: 0\n",
      "step 92: 0\n",
      "step 93: 0\n",
      "step 94: 0\n",
      "step 95: 0\n",
      "step 96: 0\n",
      "step 97: 0\n",
      "step 98: 0\n",
      "step 99: 0\n",
      "step 100: 0\n",
      "w:  [0.7161720636129283, 0.019984334655345062]\n",
      "b:  -0.7311325605143362\n"
     ]
    }
   ],
   "source": [
    "D = x.shape[1]\n",
    "w = [2*random() - 1 for i in range(D)]\n",
    "b = 2*random() - 1\n",
    "\n",
    "for step in range(101):\n",
    "    cost = 0\n",
    "    for x_n, y_n in zip(x, y):\n",
    "        # qual linha devemos remover para transformar o Perceptron num regressor?\n",
    "        y_pred = sum([x_i*w_i for x_i, w_i in zip(x_n, w)]) + b\n",
    "        y_pred = 1 if y_pred > 0 else 0\n",
    "        error = y_n - y_pred\n",
    "        w = [w_i + 0.01*error*x_i for x_i, w_i in zip(x_n, w)]\n",
    "        b = b + 0.01*error\n",
    "        cost += error**2\n",
    "\n",
    "    if step%1 == 0:\n",
    "        print('step {0}: {1}'.format(step, cost))\n",
    "\n",
    "print('w: ', w)\n",
    "print('b: ', b)"
   ]
  },
  {
   "cell_type": "code",
   "execution_count": null,
   "metadata": {},
   "outputs": [],
   "source": []
  },
  {
   "cell_type": "code",
   "execution_count": null,
   "metadata": {},
   "outputs": [],
   "source": []
  }
 ],
 "metadata": {
  "kernelspec": {
   "display_name": "Python 3",
   "language": "python",
   "name": "python3"
  },
  "language_info": {
   "codemirror_mode": {
    "name": "ipython",
    "version": 3
   },
   "file_extension": ".py",
   "mimetype": "text/x-python",
   "name": "python",
   "nbconvert_exporter": "python",
   "pygments_lexer": "ipython3",
   "version": "3.8.5"
  }
 },
 "nbformat": 4,
 "nbformat_minor": 4
}
